{
  "nbformat": 4,
  "nbformat_minor": 0,
  "metadata": {
    "colab": {
      "name": "Berksha.ipynb",
      "provenance": [],
      "include_colab_link": true
    },
    "kernelspec": {
      "name": "python3",
      "display_name": "Python 3"
    },
    "language_info": {
      "name": "python"
    }
  },
  "cells": [
    {
      "cell_type": "markdown",
      "metadata": {
        "id": "view-in-github",
        "colab_type": "text"
      },
      "source": [
        "<a href=\"https://colab.research.google.com/github/abhijain864/VTON-Intern/blob/main/Berksha.ipynb\" target=\"_parent\"><img src=\"https://colab.research.google.com/assets/colab-badge.svg\" alt=\"Open In Colab\"/></a>"
      ]
    },
    {
      "cell_type": "code",
      "metadata": {
        "id": "0bjOXJzPIpbK"
      },
      "source": [
        "import time\n",
        "import requests\n",
        "from requests.exceptions import ConnectionError\n",
        "import os\n",
        "from bs4 import BeautifulSoup\n",
        "import re\n",
        "HEADERS = {\n",
        "    'User-Agent': 'Mozilla/5.0 (Windows NT 10.0; Win64; x64) AppleWebKit/537.36 (KHTML, like Gecko) Chrome/90.0.4430.212 Safari/537.36',\n",
        "}\n",
        "import numpy as np"
      ],
      "execution_count": null,
      "outputs": []
    },
    {
      "cell_type": "code",
      "metadata": {
        "colab": {
          "base_uri": "https://localhost:8080/"
        },
        "id": "2u7D5s2F9yci",
        "outputId": "860ee283-9756-4239-c3fe-021d4ec3d00c"
      },
      "source": [
        "from google.colab import drive\n",
        "drive.mount('/content/drive')"
      ],
      "execution_count": null,
      "outputs": [
        {
          "output_type": "stream",
          "text": [
            "Mounted at /content/drive\n"
          ],
          "name": "stdout"
        }
      ]
    },
    {
      "cell_type": "code",
      "metadata": {
        "colab": {
          "base_uri": "https://localhost:8080/"
        },
        "id": "Ms7ShOFvI7No",
        "outputId": "99098a04-0372-449c-8581-bad7679eac9a"
      },
      "source": [
        "%cd /content/drive/My Drive/Web_scraping/Bershka/Bershka_images\n",
        "# %cd /content/drive/My Drive/Trial_purpose"
      ],
      "execution_count": null,
      "outputs": [
        {
          "output_type": "stream",
          "text": [
            "/content/drive/My Drive/Web_scraping/Bershka/Bershka_images\n"
          ],
          "name": "stdout"
        }
      ]
    },
    {
      "cell_type": "code",
      "metadata": {
        "id": "NCIUKCn5XXaK"
      },
      "source": [
        "def delete_imgs_in_range( ctg , start , end):\n",
        "  for i in range(start,end+1):\n",
        "    if os.path.exists(ctg + str(i) + '_0' +'.jpg'):\n",
        "      os.remove(ctg + str(i) + '_0' + '.jpg')\n",
        "    if os.path.exists(ctg + str(i) + '_1' +'.jpg'):\n",
        "      os.remove(ctg + str(i) + '_1' + '.jpg')\n",
        "    if os.path.exists(ctg + str(i) + '_2' +'.jpg'):\n",
        "      os.remove(ctg + str(i) + '_2' + '.jpg')  "
      ],
      "execution_count": null,
      "outputs": []
    },
    {
      "cell_type": "code",
      "metadata": {
        "id": "O3C3SVin4LTP"
      },
      "source": [
        "def delete_imgs(sure=False):\n",
        "  if sure:\n",
        "    for pic in os.listdir('/content/drive/My Drive/Web_scraping/Bershka/Bershka_images'):\n",
        "      if re.split(r'\\.',pic)[1]=='html':\n",
        "        continue\n",
        "      else:\n",
        "        os.remove(pic)"
      ],
      "execution_count": null,
      "outputs": []
    },
    {
      "cell_type": "code",
      "metadata": {
        "id": "uv52Nk7Q1vSi"
      },
      "source": [
        "def func_description(url):\n",
        "  split1 = re.split(r'/',url)[-1]\n",
        "  split2 = re.split(r'\\.',split1)[0]\n",
        "  return split2"
      ],
      "execution_count": null,
      "outputs": []
    },
    {
      "cell_type": "code",
      "metadata": {
        "id": "pJu1Kw_4JfH8"
      },
      "source": [
        "def save(img_category,img_urls,description):\n",
        "  global count\n",
        "  if len(img_urls)<3 :\n",
        "    return\n",
        "\n",
        "  file_name = img_category + str(count) + '_0'\n",
        "  with open(file_name + '.jpg','wb') as f:\n",
        "    try:\n",
        "      im = requests.get(img_urls[2], headers=HEADERS)\n",
        "    except ConnectionError as err:\n",
        "      time.sleep(10) \n",
        "      im = requests.get(url, headers=HEADERS)\n",
        "    f.write(im.content)   \n",
        "\n",
        "  file_name = img_category + str(count) + '_1'\n",
        "  with open(file_name + '.jpg','wb') as f:\n",
        "    try:\n",
        "      im = requests.get(img_urls[1], headers=HEADERS)\n",
        "    except ConnectionError as err:\n",
        "      time.sleep(10) \n",
        "      im = requests.get(url, headers=HEADERS)\n",
        "    f.write(im.content) \n",
        "\n",
        "  file_name = img_category + str(count) + '_2'\n",
        "  with open(file_name + '.jpg','wb') as f:\n",
        "    try:\n",
        "      im = requests.get(img_urls[0], headers=HEADERS)\n",
        "    except ConnectionError as err:\n",
        "      time.sleep(10) \n",
        "      im = requests.get(url, headers=HEADERS)\n",
        "    f.write(im.content) \n",
        "\n",
        "\n",
        "\n",
        "  print(img_category + str(count) + '    name is  ' + description)\n",
        "  count=count+1"
      ],
      "execution_count": null,
      "outputs": []
    },
    {
      "cell_type": "code",
      "metadata": {
        "id": "UGhISm99JhfX"
      },
      "source": [
        "def generate_image_urls(url):\n",
        "  try:\n",
        "    r = requests.get(url, headers=HEADERS)\n",
        "  except ConnectionError as err:\n",
        "    time.sleep(60) \n",
        "    r = requests.get(url, headers=HEADERS)\n",
        "\n",
        "  soup = BeautifulSoup(r.text,'html.parser')\n",
        "  tags = []\n",
        "\n",
        "  for tag in soup.find_all('img',class_=\"image-item\"):\n",
        "    tags.append(tag)\n",
        "\n",
        "  \n",
        "  urls = []\n",
        "  for tag in tags:\n",
        "    if re.search(r'.+-0',tag['alt']) is not None:\n",
        "      urls.append(tag['data-original'])\n",
        "      continue\n",
        "    if re.search(r'.+-3',tag['alt']) is not None:\n",
        "      urls.append(tag['data-original'])  \n",
        "      continue  \n",
        "    if re.search(r'.+-4',tag['alt']) is not None:\n",
        "      urls.append(tag['data-original'])\n",
        "      continue  \n",
        "  return urls "
      ],
      "execution_count": null,
      "outputs": []
    },
    {
      "cell_type": "code",
      "metadata": {
        "id": "XxTrfNZa16Kz"
      },
      "source": [
        "def scrape(html_file , ctg):\n",
        "  img_category = ctg \n",
        "  # count = func_count(html_file)\n",
        "  print('sraping_',img_category) \n",
        "  urls = []\n",
        "  soup = BeautifulSoup(html_file, 'html.parser')\n",
        "  for tag in soup.find_all('a'):\n",
        "    urls.append('https://www.bershka.com' + tag['href'])\n",
        " \n",
        "  print('total_count_for_this_category_is ' ,len(urls))\n",
        "  for url in urls:\n",
        "    img_urls = generate_image_urls(url)\n",
        "    description = func_description(url) # In case you want product name for ex ''Wool & Mohair Blend Blazer''\n",
        "    save(img_category,img_urls,description)\n",
        "    time.sleep(0.2)"
      ],
      "execution_count": null,
      "outputs": []
    },
    {
      "cell_type": "code",
      "metadata": {
        "id": "jYKTML4iHq1c"
      },
      "source": [
        "def scrape_these_urls():\n",
        "  for file in os.listdir('html_files'):\n",
        "    ctg = re.split(r'\\.',file)[0]\n",
        "    # print(ctg)\n",
        "    with open('html_files/' + file) as f:\n",
        "      # print(f.name)\n",
        "      scrape(f,ctg)\n",
        "    os.remove('html_files/' + file)"
      ],
      "execution_count": null,
      "outputs": []
    },
    {
      "cell_type": "code",
      "metadata": {
        "id": "le6osOITqa7P"
      },
      "source": [
        "# Women_trousers , men_trousers are the left categories"
      ],
      "execution_count": null,
      "outputs": []
    },
    {
      "cell_type": "code",
      "metadata": {
        "id": "eblgfk_20ucC"
      },
      "source": [
        "# Short starts from 2036 till 2074\n",
        "count = 2075"
      ],
      "execution_count": null,
      "outputs": []
    }
  ]
}